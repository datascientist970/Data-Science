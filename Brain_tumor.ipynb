{
 "cells": [
  {
   "cell_type": "code",
   "execution_count": 1,
   "id": "b2516278-a122-4c04-8de5-e46a17f9bebb",
   "metadata": {},
   "outputs": [],
   "source": [
    "import cv2\n",
    "import os\n",
    "import numpy as np\n",
    "import tensorflow as tf\n",
    "from tensorflow.keras.models import Sequential\n",
    "from tensorflow.keras.layers import Conv2D, MaxPooling2D, Flatten, Dense\n",
    "from tensorflow.keras.preprocessing.image import img_to_array\n",
    "from tensorflow.keras.utils import to_categorical\n",
    "from sklearn.model_selection import train_test_split\n",
    "from sklearn.preprocessing import LabelEncoder\n"
   ]
  },
  {
   "cell_type": "code",
   "execution_count": 2,
   "id": "bcf61c75-6abd-4a67-8dca-9600df1a6b81",
   "metadata": {},
   "outputs": [],
   "source": [
    "train_folder_yes = 'brain/yes/'\n",
    "train_folder_no = 'brain/no/'"
   ]
  },
  {
   "cell_type": "code",
   "execution_count": 4,
   "id": "b3983fc3-04e9-48e1-89bf-1cb989cdf47a",
   "metadata": {},
   "outputs": [],
   "source": [
    "img_size = 128 \n",
    "conversion_factor = 0.264 "
   ]
  },
  {
   "cell_type": "code",
   "execution_count": 5,
   "id": "26b6eab9-a8b7-4839-9ae3-4cad099d2f2d",
   "metadata": {},
   "outputs": [],
   "source": [
    "def process_image(image_path, is_tumor):\n",
    "    # Load the image\n",
    "    image = cv2.imread(image_path)\n",
    "    image = cv2.cvtColor(image, cv2.COLOR_BGR2RGB)\n",
    "    image_resized = cv2.resize(image, (img_size, img_size))\n",
    "    image_array = img_to_array(image_resized) / 255.0  # Normalize to [0, 1]\n",
    "\n",
    "    area_pixels = 0\n",
    "    area_mm2 = 0\n",
    "\n",
    "    if is_tumor:\n",
    "        # Convert to grayscale\n",
    "        gray = cv2.cvtColor(image, cv2.COLOR_RGB2GRAY)\n",
    "\n",
    "        # Apply thresholding\n",
    "        _, thresh = cv2.threshold(gray, 50, 255, cv2.THRESH_BINARY_INV)\n",
    "\n",
    "        # Find contours\n",
    "        contours, _ = cv2.findContours(thresh, cv2.RETR_EXTERNAL, cv2.CHAIN_APPROX_SIMPLE)\n",
    "\n",
    "        if contours:\n",
    "            # Assume the largest contour is the tumor\n",
    "            contour = max(contours, key=cv2.contourArea)\n",
    "\n",
    "            # Calculate area in pixels\n",
    "            area_pixels = cv2.contourArea(contour)\n",
    "\n",
    "            # Convert pixel area to mm²\n",
    "            area_mm2 = area_pixels * (conversion_factor ** 2)\n",
    "\n",
    "    return image_array, area_pixels, area_mm2\n"
   ]
  },
  {
   "cell_type": "code",
   "execution_count": 6,
   "id": "d4571b33-34b4-4761-87bb-1139b0eb6098",
   "metadata": {},
   "outputs": [],
   "source": [
    "images = []\n",
    "labels = []\n",
    "tumor_areas_pixels = []\n",
    "tumor_areas_mm2 = []\n",
    "\n",
    "# Process \"yes\" folder (tumor present)\n",
    "for filename in os.listdir(train_folder_yes):\n",
    "    if filename.endswith('.jpg') or filename.endswith('.png'):\n",
    "        image_path = os.path.join(train_folder_yes, filename)\n",
    "        image_array, area_pixels, area_mm2 = process_image(image_path, is_tumor=True)\n",
    "        images.append(image_array)\n",
    "        labels.append('yes')\n",
    "        tumor_areas_pixels.append(area_pixels)\n",
    "        tumor_areas_mm2.append(area_mm2)\n",
    "\n",
    "# Process \"no\" folder (tumor absent)\n",
    "for filename in os.listdir(train_folder_no):\n",
    "    if filename.endswith('.jpg') or filename.endswith('.png'):\n",
    "        image_path = os.path.join(train_folder_no, filename)\n",
    "        image_array, _, _ = process_image(image_path, is_tumor=False)\n",
    "        images.append(image_array)\n",
    "        labels.append('no')\n",
    "        tumor_areas_pixels.append(0)  # No tumor area\n",
    "        tumor_areas_mm2.append(0)\n"
   ]
  },
  {
   "cell_type": "code",
   "execution_count": 7,
   "id": "6d7370bf-8ef3-427b-84a2-cb6cbc5e4004",
   "metadata": {},
   "outputs": [],
   "source": [
    "X = np.array(images)"
   ]
  },
  {
   "cell_type": "code",
   "execution_count": 8,
   "id": "64eda08d-bd68-4037-8175-4fde8d367de7",
   "metadata": {},
   "outputs": [],
   "source": [
    "label_encoder = LabelEncoder()\n",
    "y = label_encoder.fit_transform(labels)\n",
    "y = to_categorical(y)\n",
    "\n",
    "# Split the dataset into training and validation sets\n",
    "X_train, X_val, y_train, y_val = train_test_split(X, y, test_size=0.2, random_state=42)"
   ]
  },
  {
   "cell_type": "code",
   "execution_count": 9,
   "id": "3811b409-e19e-482a-91bb-13408364ac3b",
   "metadata": {},
   "outputs": [],
   "source": [
    "model = Sequential([\n",
    "    Conv2D(32, (3, 3), activation='relu', input_shape=(img_size, img_size, 3)),\n",
    "    MaxPooling2D((2, 2)),\n",
    "    Conv2D(64, (3, 3), activation='relu'),\n",
    "    MaxPooling2D((2, 2)),\n",
    "    Conv2D(128, (3, 3), activation='relu'),\n",
    "    MaxPooling2D((2, 2)),\n",
    "    Flatten(),\n",
    "    Dense(128, activation='relu'),\n",
    "    Dense(2, activation='softmax')  # 2 classes: 'yes' and 'no'\n",
    "])\n"
   ]
  },
  {
   "cell_type": "code",
   "execution_count": 10,
   "id": "16c7e717-f325-4f10-a3b2-03ff59400c96",
   "metadata": {},
   "outputs": [],
   "source": [
    "model.compile(optimizer='adam', loss='categorical_crossentropy', metrics=['accuracy'])"
   ]
  },
  {
   "cell_type": "code",
   "execution_count": 11,
   "id": "9515894b-0c85-4e49-95a5-bea97d006960",
   "metadata": {},
   "outputs": [
    {
     "name": "stdout",
     "output_type": "stream",
     "text": [
      "Epoch 1/10\n",
      "7/7 [==============================] - 7s 729ms/step - loss: 0.7380 - accuracy: 0.6535 - val_loss: 0.6258 - val_accuracy: 0.6667\n",
      "Epoch 2/10\n",
      "7/7 [==============================] - 5s 653ms/step - loss: 0.4961 - accuracy: 0.7772 - val_loss: 0.5585 - val_accuracy: 0.7059\n",
      "Epoch 3/10\n",
      "7/7 [==============================] - 5s 644ms/step - loss: 0.5229 - accuracy: 0.7970 - val_loss: 0.5485 - val_accuracy: 0.7255\n",
      "Epoch 4/10\n",
      "7/7 [==============================] - 5s 655ms/step - loss: 0.4393 - accuracy: 0.8317 - val_loss: 0.5408 - val_accuracy: 0.7451\n",
      "Epoch 5/10\n",
      "7/7 [==============================] - 5s 649ms/step - loss: 0.4263 - accuracy: 0.7970 - val_loss: 0.4718 - val_accuracy: 0.7843\n",
      "Epoch 6/10\n",
      "7/7 [==============================] - 5s 646ms/step - loss: 0.3448 - accuracy: 0.8614 - val_loss: 0.4957 - val_accuracy: 0.7843\n",
      "Epoch 7/10\n",
      "7/7 [==============================] - 5s 650ms/step - loss: 0.2598 - accuracy: 0.9158 - val_loss: 0.4475 - val_accuracy: 0.8235\n",
      "Epoch 8/10\n",
      "7/7 [==============================] - 5s 663ms/step - loss: 0.2575 - accuracy: 0.8960 - val_loss: 0.4045 - val_accuracy: 0.8039\n",
      "Epoch 9/10\n",
      "7/7 [==============================] - 5s 659ms/step - loss: 0.2127 - accuracy: 0.9208 - val_loss: 0.5375 - val_accuracy: 0.8039\n",
      "Epoch 10/10\n",
      "7/7 [==============================] - 5s 647ms/step - loss: 0.1495 - accuracy: 0.9604 - val_loss: 0.3675 - val_accuracy: 0.8039\n"
     ]
    }
   ],
   "source": [
    "history = model.fit(X_train, y_train, epochs=10, batch_size=32, validation_data=(X_val, y_val))\n"
   ]
  },
  {
   "cell_type": "code",
   "execution_count": 12,
   "id": "9c9d9801-02a7-4897-9542-248a716b10fd",
   "metadata": {},
   "outputs": [
    {
     "name": "stdout",
     "output_type": "stream",
     "text": [
      "2/2 [==============================] - 0s 111ms/step - loss: 0.3675 - accuracy: 0.8039\n",
      "Validation accuracy: 0.80\n"
     ]
    }
   ],
   "source": [
    "loss, accuracy = model.evaluate(X_val, y_val)\n",
    "print(f\"Validation accuracy: {accuracy:.2f}\")"
   ]
  },
  {
   "cell_type": "code",
   "execution_count": 13,
   "id": "e2d1f469-b94b-460e-a4fd-0318ad15ed83",
   "metadata": {},
   "outputs": [],
   "source": [
    "model.save('brain_model.h5')\n"
   ]
  },
  {
   "cell_type": "code",
   "execution_count": 14,
   "id": "03847c17-663d-4cb0-953a-4c976f59fd41",
   "metadata": {},
   "outputs": [],
   "source": [
    "def predict_and_measure(image_path):\n",
    "    image_array, area_pixels, area_mm2 = process_image(image_path, is_tumor=True)\n",
    "    image_array = np.expand_dims(image_array, axis=0)\n",
    "    prediction = model.predict(image_array)\n",
    "    class_idx = np.argmax(prediction)\n",
    "    predicted_class = label_encoder.inverse_transform([class_idx])[0]\n",
    "\n",
    "    if predicted_class == 'yes':\n",
    "        print(f\"Tumor detected. Area: {area_mm2:.2f} mm²\")\n",
    "    else:\n",
    "        print(\"No tumor detected.\")"
   ]
  },
  {
   "cell_type": "code",
   "execution_count": 17,
   "id": "1958a2da-88e8-419b-bbb4-6a439c05b3c4",
   "metadata": {},
   "outputs": [
    {
     "name": "stdout",
     "output_type": "stream",
     "text": [
      "Tumor detected. Area: 2707.20 mm²\n"
     ]
    }
   ],
   "source": [
    "sample_image = 'brain/yes/Y_1.jpg'\n",
    "predict_and_measure(sample_image)"
   ]
  },
  {
   "cell_type": "code",
   "execution_count": null,
   "id": "cf73e99c-2e95-42cd-a125-5d0b6be86859",
   "metadata": {},
   "outputs": [],
   "source": []
  }
 ],
 "metadata": {
  "kernelspec": {
   "display_name": "Python 3 (ipykernel)",
   "language": "python",
   "name": "python3"
  },
  "language_info": {
   "codemirror_mode": {
    "name": "ipython",
    "version": 3
   },
   "file_extension": ".py",
   "mimetype": "text/x-python",
   "name": "python",
   "nbconvert_exporter": "python",
   "pygments_lexer": "ipython3",
   "version": "3.9.12"
  }
 },
 "nbformat": 4,
 "nbformat_minor": 5
}
