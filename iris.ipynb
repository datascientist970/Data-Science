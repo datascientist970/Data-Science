{
 "cells": [
  {
   "cell_type": "code",
   "execution_count": 1,
   "id": "1ebb59db",
   "metadata": {},
   "outputs": [],
   "source": [
    "import pandas as pd "
   ]
  },
  {
   "cell_type": "code",
   "execution_count": 2,
   "id": "a07b9432",
   "metadata": {},
   "outputs": [],
   "source": [
    "data=pd.read_csv(\"Iris.csv\")"
   ]
  },
  {
   "cell_type": "code",
   "execution_count": 3,
   "id": "00936162",
   "metadata": {},
   "outputs": [
    {
     "data": {
      "text/html": [
       "<div>\n",
       "<style scoped>\n",
       "    .dataframe tbody tr th:only-of-type {\n",
       "        vertical-align: middle;\n",
       "    }\n",
       "\n",
       "    .dataframe tbody tr th {\n",
       "        vertical-align: top;\n",
       "    }\n",
       "\n",
       "    .dataframe thead th {\n",
       "        text-align: right;\n",
       "    }\n",
       "</style>\n",
       "<table border=\"1\" class=\"dataframe\">\n",
       "  <thead>\n",
       "    <tr style=\"text-align: right;\">\n",
       "      <th></th>\n",
       "      <th>Id</th>\n",
       "      <th>SepalLengthCm</th>\n",
       "      <th>SepalWidthCm</th>\n",
       "      <th>PetalLengthCm</th>\n",
       "      <th>PetalWidthCm</th>\n",
       "      <th>Species</th>\n",
       "    </tr>\n",
       "  </thead>\n",
       "  <tbody>\n",
       "    <tr>\n",
       "      <th>0</th>\n",
       "      <td>1</td>\n",
       "      <td>5.1</td>\n",
       "      <td>3.5</td>\n",
       "      <td>1.4</td>\n",
       "      <td>0.2</td>\n",
       "      <td>Iris-setosa</td>\n",
       "    </tr>\n",
       "    <tr>\n",
       "      <th>1</th>\n",
       "      <td>2</td>\n",
       "      <td>4.9</td>\n",
       "      <td>3.0</td>\n",
       "      <td>1.4</td>\n",
       "      <td>0.2</td>\n",
       "      <td>Iris-setosa</td>\n",
       "    </tr>\n",
       "    <tr>\n",
       "      <th>2</th>\n",
       "      <td>3</td>\n",
       "      <td>4.7</td>\n",
       "      <td>3.2</td>\n",
       "      <td>1.3</td>\n",
       "      <td>0.2</td>\n",
       "      <td>Iris-setosa</td>\n",
       "    </tr>\n",
       "    <tr>\n",
       "      <th>3</th>\n",
       "      <td>4</td>\n",
       "      <td>4.6</td>\n",
       "      <td>3.1</td>\n",
       "      <td>1.5</td>\n",
       "      <td>0.2</td>\n",
       "      <td>Iris-setosa</td>\n",
       "    </tr>\n",
       "    <tr>\n",
       "      <th>4</th>\n",
       "      <td>5</td>\n",
       "      <td>5.0</td>\n",
       "      <td>3.6</td>\n",
       "      <td>1.4</td>\n",
       "      <td>0.2</td>\n",
       "      <td>Iris-setosa</td>\n",
       "    </tr>\n",
       "  </tbody>\n",
       "</table>\n",
       "</div>"
      ],
      "text/plain": [
       "   Id  SepalLengthCm  SepalWidthCm  PetalLengthCm  PetalWidthCm      Species\n",
       "0   1            5.1           3.5            1.4           0.2  Iris-setosa\n",
       "1   2            4.9           3.0            1.4           0.2  Iris-setosa\n",
       "2   3            4.7           3.2            1.3           0.2  Iris-setosa\n",
       "3   4            4.6           3.1            1.5           0.2  Iris-setosa\n",
       "4   5            5.0           3.6            1.4           0.2  Iris-setosa"
      ]
     },
     "execution_count": 3,
     "metadata": {},
     "output_type": "execute_result"
    }
   ],
   "source": [
    "data.head()"
   ]
  },
  {
   "cell_type": "code",
   "execution_count": 4,
   "id": "7963d02c",
   "metadata": {},
   "outputs": [
    {
     "data": {
      "text/html": [
       "<div>\n",
       "<style scoped>\n",
       "    .dataframe tbody tr th:only-of-type {\n",
       "        vertical-align: middle;\n",
       "    }\n",
       "\n",
       "    .dataframe tbody tr th {\n",
       "        vertical-align: top;\n",
       "    }\n",
       "\n",
       "    .dataframe thead th {\n",
       "        text-align: right;\n",
       "    }\n",
       "</style>\n",
       "<table border=\"1\" class=\"dataframe\">\n",
       "  <thead>\n",
       "    <tr style=\"text-align: right;\">\n",
       "      <th></th>\n",
       "      <th>SepalLengthCm</th>\n",
       "      <th>SepalWidthCm</th>\n",
       "      <th>PetalLengthCm</th>\n",
       "      <th>PetalWidthCm</th>\n",
       "      <th>Species</th>\n",
       "    </tr>\n",
       "  </thead>\n",
       "  <tbody>\n",
       "    <tr>\n",
       "      <th>0</th>\n",
       "      <td>5.1</td>\n",
       "      <td>3.5</td>\n",
       "      <td>1.4</td>\n",
       "      <td>0.2</td>\n",
       "      <td>Iris-setosa</td>\n",
       "    </tr>\n",
       "    <tr>\n",
       "      <th>1</th>\n",
       "      <td>4.9</td>\n",
       "      <td>3.0</td>\n",
       "      <td>1.4</td>\n",
       "      <td>0.2</td>\n",
       "      <td>Iris-setosa</td>\n",
       "    </tr>\n",
       "    <tr>\n",
       "      <th>2</th>\n",
       "      <td>4.7</td>\n",
       "      <td>3.2</td>\n",
       "      <td>1.3</td>\n",
       "      <td>0.2</td>\n",
       "      <td>Iris-setosa</td>\n",
       "    </tr>\n",
       "    <tr>\n",
       "      <th>3</th>\n",
       "      <td>4.6</td>\n",
       "      <td>3.1</td>\n",
       "      <td>1.5</td>\n",
       "      <td>0.2</td>\n",
       "      <td>Iris-setosa</td>\n",
       "    </tr>\n",
       "    <tr>\n",
       "      <th>4</th>\n",
       "      <td>5.0</td>\n",
       "      <td>3.6</td>\n",
       "      <td>1.4</td>\n",
       "      <td>0.2</td>\n",
       "      <td>Iris-setosa</td>\n",
       "    </tr>\n",
       "    <tr>\n",
       "      <th>...</th>\n",
       "      <td>...</td>\n",
       "      <td>...</td>\n",
       "      <td>...</td>\n",
       "      <td>...</td>\n",
       "      <td>...</td>\n",
       "    </tr>\n",
       "    <tr>\n",
       "      <th>145</th>\n",
       "      <td>6.7</td>\n",
       "      <td>3.0</td>\n",
       "      <td>5.2</td>\n",
       "      <td>2.3</td>\n",
       "      <td>Iris-virginica</td>\n",
       "    </tr>\n",
       "    <tr>\n",
       "      <th>146</th>\n",
       "      <td>6.3</td>\n",
       "      <td>2.5</td>\n",
       "      <td>5.0</td>\n",
       "      <td>1.9</td>\n",
       "      <td>Iris-virginica</td>\n",
       "    </tr>\n",
       "    <tr>\n",
       "      <th>147</th>\n",
       "      <td>6.5</td>\n",
       "      <td>3.0</td>\n",
       "      <td>5.2</td>\n",
       "      <td>2.0</td>\n",
       "      <td>Iris-virginica</td>\n",
       "    </tr>\n",
       "    <tr>\n",
       "      <th>148</th>\n",
       "      <td>6.2</td>\n",
       "      <td>3.4</td>\n",
       "      <td>5.4</td>\n",
       "      <td>2.3</td>\n",
       "      <td>Iris-virginica</td>\n",
       "    </tr>\n",
       "    <tr>\n",
       "      <th>149</th>\n",
       "      <td>5.9</td>\n",
       "      <td>3.0</td>\n",
       "      <td>5.1</td>\n",
       "      <td>1.8</td>\n",
       "      <td>Iris-virginica</td>\n",
       "    </tr>\n",
       "  </tbody>\n",
       "</table>\n",
       "<p>150 rows × 5 columns</p>\n",
       "</div>"
      ],
      "text/plain": [
       "     SepalLengthCm  SepalWidthCm  PetalLengthCm  PetalWidthCm         Species\n",
       "0              5.1           3.5            1.4           0.2     Iris-setosa\n",
       "1              4.9           3.0            1.4           0.2     Iris-setosa\n",
       "2              4.7           3.2            1.3           0.2     Iris-setosa\n",
       "3              4.6           3.1            1.5           0.2     Iris-setosa\n",
       "4              5.0           3.6            1.4           0.2     Iris-setosa\n",
       "..             ...           ...            ...           ...             ...\n",
       "145            6.7           3.0            5.2           2.3  Iris-virginica\n",
       "146            6.3           2.5            5.0           1.9  Iris-virginica\n",
       "147            6.5           3.0            5.2           2.0  Iris-virginica\n",
       "148            6.2           3.4            5.4           2.3  Iris-virginica\n",
       "149            5.9           3.0            5.1           1.8  Iris-virginica\n",
       "\n",
       "[150 rows x 5 columns]"
      ]
     },
     "execution_count": 4,
     "metadata": {},
     "output_type": "execute_result"
    }
   ],
   "source": [
    "data.drop(\"Id\",axis=1)"
   ]
  },
  {
   "cell_type": "code",
   "execution_count": 5,
   "id": "d4c3ac0f",
   "metadata": {},
   "outputs": [],
   "source": [
    "x=data.drop(\"Species\",axis=1)\n",
    "y=data[\"Species\"]"
   ]
  },
  {
   "cell_type": "code",
   "execution_count": 6,
   "id": "31e65736",
   "metadata": {},
   "outputs": [
    {
     "name": "stderr",
     "output_type": "stream",
     "text": [
      "F:\\conda\\lib\\site-packages\\scipy\\__init__.py:146: UserWarning: A NumPy version >=1.16.5 and <1.23.0 is required for this version of SciPy (detected version 1.26.3\n",
      "  warnings.warn(f\"A NumPy version >={np_minversion} and <{np_maxversion}\"\n"
     ]
    }
   ],
   "source": [
    "from sklearn.preprocessing import LabelEncoder,StandardScaler"
   ]
  },
  {
   "cell_type": "code",
   "execution_count": 7,
   "id": "7c6a2fba",
   "metadata": {},
   "outputs": [],
   "source": [
    "encode=LabelEncoder()"
   ]
  },
  {
   "cell_type": "code",
   "execution_count": 8,
   "id": "6f96cd96",
   "metadata": {},
   "outputs": [],
   "source": [
    "y1=encode.fit_transform(y)"
   ]
  },
  {
   "cell_type": "code",
   "execution_count": 9,
   "id": "0f6807fc",
   "metadata": {},
   "outputs": [],
   "source": [
    "Y=pd.get_dummies(y1).values"
   ]
  },
  {
   "cell_type": "code",
   "execution_count": 10,
   "id": "de60fb36",
   "metadata": {},
   "outputs": [
    {
     "data": {
      "text/plain": [
       "array([[1, 0, 0],\n",
       "       [1, 0, 0],\n",
       "       [1, 0, 0],\n",
       "       [1, 0, 0],\n",
       "       [1, 0, 0],\n",
       "       [1, 0, 0],\n",
       "       [1, 0, 0],\n",
       "       [1, 0, 0],\n",
       "       [1, 0, 0],\n",
       "       [1, 0, 0],\n",
       "       [1, 0, 0],\n",
       "       [1, 0, 0],\n",
       "       [1, 0, 0],\n",
       "       [1, 0, 0],\n",
       "       [1, 0, 0],\n",
       "       [1, 0, 0],\n",
       "       [1, 0, 0],\n",
       "       [1, 0, 0],\n",
       "       [1, 0, 0],\n",
       "       [1, 0, 0],\n",
       "       [1, 0, 0],\n",
       "       [1, 0, 0],\n",
       "       [1, 0, 0],\n",
       "       [1, 0, 0],\n",
       "       [1, 0, 0],\n",
       "       [1, 0, 0],\n",
       "       [1, 0, 0],\n",
       "       [1, 0, 0],\n",
       "       [1, 0, 0],\n",
       "       [1, 0, 0],\n",
       "       [1, 0, 0],\n",
       "       [1, 0, 0],\n",
       "       [1, 0, 0],\n",
       "       [1, 0, 0],\n",
       "       [1, 0, 0],\n",
       "       [1, 0, 0],\n",
       "       [1, 0, 0],\n",
       "       [1, 0, 0],\n",
       "       [1, 0, 0],\n",
       "       [1, 0, 0],\n",
       "       [1, 0, 0],\n",
       "       [1, 0, 0],\n",
       "       [1, 0, 0],\n",
       "       [1, 0, 0],\n",
       "       [1, 0, 0],\n",
       "       [1, 0, 0],\n",
       "       [1, 0, 0],\n",
       "       [1, 0, 0],\n",
       "       [1, 0, 0],\n",
       "       [1, 0, 0],\n",
       "       [0, 1, 0],\n",
       "       [0, 1, 0],\n",
       "       [0, 1, 0],\n",
       "       [0, 1, 0],\n",
       "       [0, 1, 0],\n",
       "       [0, 1, 0],\n",
       "       [0, 1, 0],\n",
       "       [0, 1, 0],\n",
       "       [0, 1, 0],\n",
       "       [0, 1, 0],\n",
       "       [0, 1, 0],\n",
       "       [0, 1, 0],\n",
       "       [0, 1, 0],\n",
       "       [0, 1, 0],\n",
       "       [0, 1, 0],\n",
       "       [0, 1, 0],\n",
       "       [0, 1, 0],\n",
       "       [0, 1, 0],\n",
       "       [0, 1, 0],\n",
       "       [0, 1, 0],\n",
       "       [0, 1, 0],\n",
       "       [0, 1, 0],\n",
       "       [0, 1, 0],\n",
       "       [0, 1, 0],\n",
       "       [0, 1, 0],\n",
       "       [0, 1, 0],\n",
       "       [0, 1, 0],\n",
       "       [0, 1, 0],\n",
       "       [0, 1, 0],\n",
       "       [0, 1, 0],\n",
       "       [0, 1, 0],\n",
       "       [0, 1, 0],\n",
       "       [0, 1, 0],\n",
       "       [0, 1, 0],\n",
       "       [0, 1, 0],\n",
       "       [0, 1, 0],\n",
       "       [0, 1, 0],\n",
       "       [0, 1, 0],\n",
       "       [0, 1, 0],\n",
       "       [0, 1, 0],\n",
       "       [0, 1, 0],\n",
       "       [0, 1, 0],\n",
       "       [0, 1, 0],\n",
       "       [0, 1, 0],\n",
       "       [0, 1, 0],\n",
       "       [0, 1, 0],\n",
       "       [0, 1, 0],\n",
       "       [0, 1, 0],\n",
       "       [0, 1, 0],\n",
       "       [0, 1, 0],\n",
       "       [0, 0, 1],\n",
       "       [0, 0, 1],\n",
       "       [0, 0, 1],\n",
       "       [0, 0, 1],\n",
       "       [0, 0, 1],\n",
       "       [0, 0, 1],\n",
       "       [0, 0, 1],\n",
       "       [0, 0, 1],\n",
       "       [0, 0, 1],\n",
       "       [0, 0, 1],\n",
       "       [0, 0, 1],\n",
       "       [0, 0, 1],\n",
       "       [0, 0, 1],\n",
       "       [0, 0, 1],\n",
       "       [0, 0, 1],\n",
       "       [0, 0, 1],\n",
       "       [0, 0, 1],\n",
       "       [0, 0, 1],\n",
       "       [0, 0, 1],\n",
       "       [0, 0, 1],\n",
       "       [0, 0, 1],\n",
       "       [0, 0, 1],\n",
       "       [0, 0, 1],\n",
       "       [0, 0, 1],\n",
       "       [0, 0, 1],\n",
       "       [0, 0, 1],\n",
       "       [0, 0, 1],\n",
       "       [0, 0, 1],\n",
       "       [0, 0, 1],\n",
       "       [0, 0, 1],\n",
       "       [0, 0, 1],\n",
       "       [0, 0, 1],\n",
       "       [0, 0, 1],\n",
       "       [0, 0, 1],\n",
       "       [0, 0, 1],\n",
       "       [0, 0, 1],\n",
       "       [0, 0, 1],\n",
       "       [0, 0, 1],\n",
       "       [0, 0, 1],\n",
       "       [0, 0, 1],\n",
       "       [0, 0, 1],\n",
       "       [0, 0, 1],\n",
       "       [0, 0, 1],\n",
       "       [0, 0, 1],\n",
       "       [0, 0, 1],\n",
       "       [0, 0, 1],\n",
       "       [0, 0, 1],\n",
       "       [0, 0, 1],\n",
       "       [0, 0, 1],\n",
       "       [0, 0, 1]], dtype=uint8)"
      ]
     },
     "execution_count": 10,
     "metadata": {},
     "output_type": "execute_result"
    }
   ],
   "source": [
    "Y"
   ]
  },
  {
   "cell_type": "code",
   "execution_count": 11,
   "id": "3fc27069",
   "metadata": {},
   "outputs": [],
   "source": [
    "scaler = StandardScaler()\n",
    "X_scaled = scaler.fit_transform(x)"
   ]
  },
  {
   "cell_type": "code",
   "execution_count": null,
   "id": "6007678f",
   "metadata": {},
   "outputs": [],
   "source": []
  },
  {
   "cell_type": "code",
   "execution_count": 12,
   "id": "a794bdd0",
   "metadata": {},
   "outputs": [],
   "source": [
    "from sklearn.model_selection import train_test_split"
   ]
  },
  {
   "cell_type": "code",
   "execution_count": null,
   "id": "54701a56",
   "metadata": {},
   "outputs": [],
   "source": []
  },
  {
   "cell_type": "code",
   "execution_count": 13,
   "id": "5014ef2d",
   "metadata": {},
   "outputs": [],
   "source": [
    "xtrain,xtest,ytrain,ytest=train_test_split(X_scaled,Y,test_size=0.2)"
   ]
  },
  {
   "cell_type": "code",
   "execution_count": 14,
   "id": "5c0e832c",
   "metadata": {},
   "outputs": [],
   "source": [
    "from sklearn.tree import DecisionTreeRegressor"
   ]
  },
  {
   "cell_type": "code",
   "execution_count": 15,
   "id": "3f6b8dc7",
   "metadata": {},
   "outputs": [],
   "source": [
    "tree=DecisionTreeRegressor()"
   ]
  },
  {
   "cell_type": "code",
   "execution_count": 16,
   "id": "d50c5a08",
   "metadata": {},
   "outputs": [
    {
     "data": {
      "text/plain": [
       "DecisionTreeRegressor()"
      ]
     },
     "execution_count": 16,
     "metadata": {},
     "output_type": "execute_result"
    }
   ],
   "source": [
    "tree.fit(xtrain,ytrain)"
   ]
  },
  {
   "cell_type": "code",
   "execution_count": 17,
   "id": "1646e0b8",
   "metadata": {},
   "outputs": [],
   "source": [
    "pred=tree.predict(xtest)"
   ]
  },
  {
   "cell_type": "code",
   "execution_count": 24,
   "id": "91cb4a92",
   "metadata": {},
   "outputs": [],
   "source": [
    "new_data = [5.1,3.5,1.4,0.2]"
   ]
  },
  {
   "cell_type": "code",
   "execution_count": 25,
   "id": "b0380039",
   "metadata": {},
   "outputs": [],
   "source": [
    "new_data_scaled = scaler.fit_transform([new_data])"
   ]
  },
  {
   "cell_type": "code",
   "execution_count": 26,
   "id": "e019cbab",
   "metadata": {},
   "outputs": [],
   "source": [
    "new_data_reshaped = new_data_scaled.reshape(1, -1)"
   ]
  },
  {
   "cell_type": "code",
   "execution_count": 29,
   "id": "5911013e",
   "metadata": {},
   "outputs": [],
   "source": [
    "prediction = tree.predict(new_data_reshaped)\n",
    "predicted_class = prediction[0]\n",
    "#iris_species = data[\"species\"].unique()[predicted_class]  # Get species name from unique labels\n"
   ]
  },
  {
   "cell_type": "code",
   "execution_count": 32,
   "id": "3d4cc2c4",
   "metadata": {},
   "outputs": [
    {
     "name": "stdout",
     "output_type": "stream",
     "text": [
      "Predicted class: [0. 1. 0.]\n"
     ]
    }
   ],
   "source": [
    "print(\"Predicted class:\", predicted_class)\n"
   ]
  },
  {
   "cell_type": "code",
   "execution_count": 33,
   "id": "53d0957e",
   "metadata": {},
   "outputs": [
    {
     "ename": "KeyError",
     "evalue": "'species'",
     "output_type": "error",
     "traceback": [
      "\u001b[1;31m---------------------------------------------------------------------------\u001b[0m",
      "\u001b[1;31mKeyError\u001b[0m                                  Traceback (most recent call last)",
      "File \u001b[1;32mF:\\conda\\lib\\site-packages\\pandas\\core\\indexes\\base.py:3621\u001b[0m, in \u001b[0;36mIndex.get_loc\u001b[1;34m(self, key, method, tolerance)\u001b[0m\n\u001b[0;32m   3620\u001b[0m \u001b[38;5;28;01mtry\u001b[39;00m:\n\u001b[1;32m-> 3621\u001b[0m     \u001b[38;5;28;01mreturn\u001b[39;00m \u001b[38;5;28;43mself\u001b[39;49m\u001b[38;5;241;43m.\u001b[39;49m\u001b[43m_engine\u001b[49m\u001b[38;5;241;43m.\u001b[39;49m\u001b[43mget_loc\u001b[49m\u001b[43m(\u001b[49m\u001b[43mcasted_key\u001b[49m\u001b[43m)\u001b[49m\n\u001b[0;32m   3622\u001b[0m \u001b[38;5;28;01mexcept\u001b[39;00m \u001b[38;5;167;01mKeyError\u001b[39;00m \u001b[38;5;28;01mas\u001b[39;00m err:\n",
      "File \u001b[1;32mF:\\conda\\lib\\site-packages\\pandas\\_libs\\index.pyx:136\u001b[0m, in \u001b[0;36mpandas._libs.index.IndexEngine.get_loc\u001b[1;34m()\u001b[0m\n",
      "File \u001b[1;32mF:\\conda\\lib\\site-packages\\pandas\\_libs\\index.pyx:163\u001b[0m, in \u001b[0;36mpandas._libs.index.IndexEngine.get_loc\u001b[1;34m()\u001b[0m\n",
      "File \u001b[1;32mpandas\\_libs\\hashtable_class_helper.pxi:5198\u001b[0m, in \u001b[0;36mpandas._libs.hashtable.PyObjectHashTable.get_item\u001b[1;34m()\u001b[0m\n",
      "File \u001b[1;32mpandas\\_libs\\hashtable_class_helper.pxi:5206\u001b[0m, in \u001b[0;36mpandas._libs.hashtable.PyObjectHashTable.get_item\u001b[1;34m()\u001b[0m\n",
      "\u001b[1;31mKeyError\u001b[0m: 'species'",
      "\nThe above exception was the direct cause of the following exception:\n",
      "\u001b[1;31mKeyError\u001b[0m                                  Traceback (most recent call last)",
      "Input \u001b[1;32mIn [33]\u001b[0m, in \u001b[0;36m<cell line: 1>\u001b[1;34m()\u001b[0m\n\u001b[1;32m----> 1\u001b[0m iris_species \u001b[38;5;241m=\u001b[39m \u001b[43mdata\u001b[49m\u001b[43m[\u001b[49m\u001b[38;5;124;43m\"\u001b[39;49m\u001b[38;5;124;43mspecies\u001b[39;49m\u001b[38;5;124;43m\"\u001b[39;49m\u001b[43m]\u001b[49m\u001b[38;5;241m.\u001b[39munique()[predicted_class]\n",
      "File \u001b[1;32mF:\\conda\\lib\\site-packages\\pandas\\core\\frame.py:3505\u001b[0m, in \u001b[0;36mDataFrame.__getitem__\u001b[1;34m(self, key)\u001b[0m\n\u001b[0;32m   3503\u001b[0m \u001b[38;5;28;01mif\u001b[39;00m \u001b[38;5;28mself\u001b[39m\u001b[38;5;241m.\u001b[39mcolumns\u001b[38;5;241m.\u001b[39mnlevels \u001b[38;5;241m>\u001b[39m \u001b[38;5;241m1\u001b[39m:\n\u001b[0;32m   3504\u001b[0m     \u001b[38;5;28;01mreturn\u001b[39;00m \u001b[38;5;28mself\u001b[39m\u001b[38;5;241m.\u001b[39m_getitem_multilevel(key)\n\u001b[1;32m-> 3505\u001b[0m indexer \u001b[38;5;241m=\u001b[39m \u001b[38;5;28;43mself\u001b[39;49m\u001b[38;5;241;43m.\u001b[39;49m\u001b[43mcolumns\u001b[49m\u001b[38;5;241;43m.\u001b[39;49m\u001b[43mget_loc\u001b[49m\u001b[43m(\u001b[49m\u001b[43mkey\u001b[49m\u001b[43m)\u001b[49m\n\u001b[0;32m   3506\u001b[0m \u001b[38;5;28;01mif\u001b[39;00m is_integer(indexer):\n\u001b[0;32m   3507\u001b[0m     indexer \u001b[38;5;241m=\u001b[39m [indexer]\n",
      "File \u001b[1;32mF:\\conda\\lib\\site-packages\\pandas\\core\\indexes\\base.py:3623\u001b[0m, in \u001b[0;36mIndex.get_loc\u001b[1;34m(self, key, method, tolerance)\u001b[0m\n\u001b[0;32m   3621\u001b[0m     \u001b[38;5;28;01mreturn\u001b[39;00m \u001b[38;5;28mself\u001b[39m\u001b[38;5;241m.\u001b[39m_engine\u001b[38;5;241m.\u001b[39mget_loc(casted_key)\n\u001b[0;32m   3622\u001b[0m \u001b[38;5;28;01mexcept\u001b[39;00m \u001b[38;5;167;01mKeyError\u001b[39;00m \u001b[38;5;28;01mas\u001b[39;00m err:\n\u001b[1;32m-> 3623\u001b[0m     \u001b[38;5;28;01mraise\u001b[39;00m \u001b[38;5;167;01mKeyError\u001b[39;00m(key) \u001b[38;5;28;01mfrom\u001b[39;00m \u001b[38;5;21;01merr\u001b[39;00m\n\u001b[0;32m   3624\u001b[0m \u001b[38;5;28;01mexcept\u001b[39;00m \u001b[38;5;167;01mTypeError\u001b[39;00m:\n\u001b[0;32m   3625\u001b[0m     \u001b[38;5;66;03m# If we have a listlike key, _check_indexing_error will raise\u001b[39;00m\n\u001b[0;32m   3626\u001b[0m     \u001b[38;5;66;03m#  InvalidIndexError. Otherwise we fall through and re-raise\u001b[39;00m\n\u001b[0;32m   3627\u001b[0m     \u001b[38;5;66;03m#  the TypeError.\u001b[39;00m\n\u001b[0;32m   3628\u001b[0m     \u001b[38;5;28mself\u001b[39m\u001b[38;5;241m.\u001b[39m_check_indexing_error(key)\n",
      "\u001b[1;31mKeyError\u001b[0m: 'species'"
     ]
    }
   ],
   "source": [
    "iris_species = data[\"species\"].unique()[predicted_class]"
   ]
  },
  {
   "cell_type": "code",
   "execution_count": null,
   "id": "7c2e3c76",
   "metadata": {},
   "outputs": [],
   "source": []
  },
  {
   "cell_type": "code",
   "execution_count": null,
   "id": "d7debdfc",
   "metadata": {},
   "outputs": [],
   "source": []
  },
  {
   "cell_type": "code",
   "execution_count": 53,
   "id": "23c4b171",
   "metadata": {},
   "outputs": [],
   "source": [
    "from tensorflow.keras.models import Sequential"
   ]
  },
  {
   "cell_type": "code",
   "execution_count": 16,
   "id": "4303303e",
   "metadata": {},
   "outputs": [],
   "source": [
    "from tensorflow.keras.layers import Dense"
   ]
  },
  {
   "cell_type": "code",
   "execution_count": 54,
   "id": "aa06b4a9",
   "metadata": {},
   "outputs": [],
   "source": [
    "model=Sequential()"
   ]
  },
  {
   "cell_type": "code",
   "execution_count": 66,
   "id": "81717184",
   "metadata": {},
   "outputs": [],
   "source": [
    "model.add(Dense(10,activation=\"relu\"))"
   ]
  },
  {
   "cell_type": "code",
   "execution_count": null,
   "id": "69adfb33",
   "metadata": {},
   "outputs": [],
   "source": []
  },
  {
   "cell_type": "code",
   "execution_count": 67,
   "id": "68bdad5a",
   "metadata": {},
   "outputs": [],
   "source": [
    "model.add(Dense(3,activation=\"softmax\"))"
   ]
  },
  {
   "cell_type": "code",
   "execution_count": 68,
   "id": "cada69e9",
   "metadata": {},
   "outputs": [],
   "source": [
    "model.compile(optimizer=\"adam\",loss='categorical_crossentropy',metrics=['accuracy'])"
   ]
  },
  {
   "cell_type": "code",
   "execution_count": 30,
   "id": "3040ed46",
   "metadata": {},
   "outputs": [],
   "source": [
    "import tensorflow as tf "
   ]
  },
  {
   "cell_type": "code",
   "execution_count": 31,
   "id": "c319c1db",
   "metadata": {},
   "outputs": [],
   "source": [
    "call=tf.keras.callbacks.EarlyStopping(\n",
    "    monitor=\"val_loss\",\n",
    "    min_delta=0.0003,\n",
    "    patience=0,\n",
    "    verbose=0,\n",
    "    mode=\"auto\",\n",
    "    baseline=None,\n",
    "    restore_best_weights=False,\n",
    "    start_from_epoch=0,\n",
    ")"
   ]
  },
  {
   "cell_type": "code",
   "execution_count": 69,
   "id": "92f0b1b7",
   "metadata": {},
   "outputs": [
    {
     "name": "stdout",
     "output_type": "stream",
     "text": [
      "Epoch 1/100\n",
      "2/2 [==============================] - 5s 15ms/step - loss: 1.0887 - accuracy: 0.3417\n",
      "Epoch 2/100\n",
      "2/2 [==============================] - 0s 15ms/step - loss: 1.0860 - accuracy: 0.3417\n",
      "Epoch 3/100\n",
      "2/2 [==============================] - 0s 17ms/step - loss: 1.0838 - accuracy: 0.3417\n",
      "Epoch 4/100\n",
      "2/2 [==============================] - 0s 18ms/step - loss: 1.0815 - accuracy: 0.3417\n",
      "Epoch 5/100\n",
      "2/2 [==============================] - 0s 15ms/step - loss: 1.0792 - accuracy: 0.3417\n",
      "Epoch 6/100\n",
      "2/2 [==============================] - 0s 20ms/step - loss: 1.0769 - accuracy: 0.3417\n",
      "Epoch 7/100\n",
      "2/2 [==============================] - 0s 20ms/step - loss: 1.0744 - accuracy: 0.3417\n",
      "Epoch 8/100\n",
      "2/2 [==============================] - 0s 18ms/step - loss: 1.0722 - accuracy: 0.3417\n",
      "Epoch 9/100\n",
      "2/2 [==============================] - 0s 52ms/step - loss: 1.0699 - accuracy: 0.3417\n",
      "Epoch 10/100\n",
      "2/2 [==============================] - 0s 17ms/step - loss: 1.0675 - accuracy: 0.3417\n",
      "Epoch 11/100\n",
      "2/2 [==============================] - 0s 14ms/step - loss: 1.0650 - accuracy: 0.3417\n",
      "Epoch 12/100\n",
      "2/2 [==============================] - 0s 12ms/step - loss: 1.0625 - accuracy: 0.3417\n",
      "Epoch 13/100\n",
      "2/2 [==============================] - 0s 11ms/step - loss: 1.0600 - accuracy: 0.3417\n",
      "Epoch 14/100\n",
      "2/2 [==============================] - 0s 12ms/step - loss: 1.0574 - accuracy: 0.3417\n",
      "Epoch 15/100\n",
      "2/2 [==============================] - 0s 12ms/step - loss: 1.0549 - accuracy: 0.3417\n",
      "Epoch 16/100\n",
      "2/2 [==============================] - 0s 12ms/step - loss: 1.0524 - accuracy: 0.3417\n",
      "Epoch 17/100\n",
      "2/2 [==============================] - 0s 12ms/step - loss: 1.0496 - accuracy: 0.3417\n",
      "Epoch 18/100\n",
      "2/2 [==============================] - 0s 11ms/step - loss: 1.0471 - accuracy: 0.3417\n",
      "Epoch 19/100\n",
      "2/2 [==============================] - 0s 13ms/step - loss: 1.0444 - accuracy: 0.3417\n",
      "Epoch 20/100\n",
      "2/2 [==============================] - 0s 10ms/step - loss: 1.0416 - accuracy: 0.3417\n",
      "Epoch 21/100\n",
      "2/2 [==============================] - 0s 12ms/step - loss: 1.0387 - accuracy: 0.3417\n",
      "Epoch 22/100\n",
      "2/2 [==============================] - 0s 8ms/step - loss: 1.0357 - accuracy: 0.3417\n",
      "Epoch 23/100\n",
      "2/2 [==============================] - 0s 12ms/step - loss: 1.0325 - accuracy: 0.3417\n",
      "Epoch 24/100\n",
      "2/2 [==============================] - 0s 10ms/step - loss: 1.0293 - accuracy: 0.3500\n",
      "Epoch 25/100\n",
      "2/2 [==============================] - 0s 13ms/step - loss: 1.0260 - accuracy: 0.3500\n",
      "Epoch 26/100\n",
      "2/2 [==============================] - 0s 13ms/step - loss: 1.0227 - accuracy: 0.3500\n",
      "Epoch 27/100\n",
      "2/2 [==============================] - 0s 15ms/step - loss: 1.0191 - accuracy: 0.3583\n",
      "Epoch 28/100\n",
      "2/2 [==============================] - 0s 9ms/step - loss: 1.0154 - accuracy: 0.3583\n",
      "Epoch 29/100\n",
      "2/2 [==============================] - 0s 14ms/step - loss: 1.0116 - accuracy: 0.3583\n",
      "Epoch 30/100\n",
      "2/2 [==============================] - 0s 12ms/step - loss: 1.0078 - accuracy: 0.3667\n",
      "Epoch 31/100\n",
      "2/2 [==============================] - 0s 11ms/step - loss: 1.0037 - accuracy: 0.4250\n",
      "Epoch 32/100\n",
      "2/2 [==============================] - 0s 13ms/step - loss: 0.9995 - accuracy: 0.4750\n",
      "Epoch 33/100\n",
      "2/2 [==============================] - 0s 13ms/step - loss: 0.9951 - accuracy: 0.5083\n",
      "Epoch 34/100\n",
      "2/2 [==============================] - 0s 11ms/step - loss: 0.9907 - accuracy: 0.5250\n",
      "Epoch 35/100\n",
      "2/2 [==============================] - 0s 8ms/step - loss: 0.9862 - accuracy: 0.5667\n",
      "Epoch 36/100\n",
      "2/2 [==============================] - 0s 15ms/step - loss: 0.9814 - accuracy: 0.6083\n",
      "Epoch 37/100\n",
      "2/2 [==============================] - 0s 9ms/step - loss: 0.9765 - accuracy: 0.6083\n",
      "Epoch 38/100\n",
      "2/2 [==============================] - 0s 11ms/step - loss: 0.9718 - accuracy: 0.6333\n",
      "Epoch 39/100\n",
      "2/2 [==============================] - 0s 16ms/step - loss: 0.9664 - accuracy: 0.6583\n",
      "Epoch 40/100\n",
      "2/2 [==============================] - 0s 17ms/step - loss: 0.9612 - accuracy: 0.6750\n",
      "Epoch 41/100\n",
      "2/2 [==============================] - 0s 14ms/step - loss: 0.9558 - accuracy: 0.6667\n",
      "Epoch 42/100\n",
      "2/2 [==============================] - 0s 11ms/step - loss: 0.9505 - accuracy: 0.6917\n",
      "Epoch 43/100\n",
      "2/2 [==============================] - 0s 16ms/step - loss: 0.9452 - accuracy: 0.7083\n",
      "Epoch 44/100\n",
      "2/2 [==============================] - 0s 13ms/step - loss: 0.9399 - accuracy: 0.7083\n",
      "Epoch 45/100\n",
      "2/2 [==============================] - 0s 12ms/step - loss: 0.9347 - accuracy: 0.7167\n",
      "Epoch 46/100\n",
      "2/2 [==============================] - 0s 14ms/step - loss: 0.9296 - accuracy: 0.7167\n",
      "Epoch 47/100\n",
      "2/2 [==============================] - 0s 12ms/step - loss: 0.9242 - accuracy: 0.7167\n",
      "Epoch 48/100\n",
      "2/2 [==============================] - 0s 11ms/step - loss: 0.9191 - accuracy: 0.7167\n",
      "Epoch 49/100\n",
      "2/2 [==============================] - 0s 10ms/step - loss: 0.9141 - accuracy: 0.7000\n",
      "Epoch 50/100\n",
      "2/2 [==============================] - 0s 13ms/step - loss: 0.9087 - accuracy: 0.7000\n",
      "Epoch 51/100\n",
      "2/2 [==============================] - 0s 15ms/step - loss: 0.9037 - accuracy: 0.7000\n",
      "Epoch 52/100\n",
      "2/2 [==============================] - 0s 9ms/step - loss: 0.8985 - accuracy: 0.6917\n",
      "Epoch 53/100\n",
      "2/2 [==============================] - 0s 12ms/step - loss: 0.8935 - accuracy: 0.6750\n",
      "Epoch 54/100\n",
      "2/2 [==============================] - 0s 11ms/step - loss: 0.8883 - accuracy: 0.6833\n",
      "Epoch 55/100\n",
      "2/2 [==============================] - 0s 11ms/step - loss: 0.8835 - accuracy: 0.6833\n",
      "Epoch 56/100\n",
      "2/2 [==============================] - 0s 11ms/step - loss: 0.8785 - accuracy: 0.6833\n",
      "Epoch 57/100\n",
      "2/2 [==============================] - 0s 12ms/step - loss: 0.8734 - accuracy: 0.6833\n",
      "Epoch 58/100\n",
      "2/2 [==============================] - 0s 13ms/step - loss: 0.8684 - accuracy: 0.6833\n",
      "Epoch 59/100\n",
      "2/2 [==============================] - 0s 12ms/step - loss: 0.8637 - accuracy: 0.6917\n",
      "Epoch 60/100\n",
      "2/2 [==============================] - 0s 12ms/step - loss: 0.8588 - accuracy: 0.6917\n",
      "Epoch 61/100\n",
      "2/2 [==============================] - 0s 15ms/step - loss: 0.8540 - accuracy: 0.7000\n",
      "Epoch 62/100\n",
      "2/2 [==============================] - 0s 14ms/step - loss: 0.8494 - accuracy: 0.7083\n",
      "Epoch 63/100\n",
      "2/2 [==============================] - 0s 13ms/step - loss: 0.8447 - accuracy: 0.7083\n",
      "Epoch 64/100\n",
      "2/2 [==============================] - 0s 13ms/step - loss: 0.8401 - accuracy: 0.7167\n",
      "Epoch 65/100\n",
      "2/2 [==============================] - 0s 16ms/step - loss: 0.8353 - accuracy: 0.7167\n",
      "Epoch 66/100\n",
      "2/2 [==============================] - 0s 13ms/step - loss: 0.8305 - accuracy: 0.7167\n",
      "Epoch 67/100\n",
      "2/2 [==============================] - 0s 13ms/step - loss: 0.8260 - accuracy: 0.7167\n",
      "Epoch 68/100\n",
      "2/2 [==============================] - 0s 15ms/step - loss: 0.8212 - accuracy: 0.7167\n",
      "Epoch 69/100\n",
      "2/2 [==============================] - 0s 13ms/step - loss: 0.8165 - accuracy: 0.7250\n",
      "Epoch 70/100\n",
      "2/2 [==============================] - 0s 12ms/step - loss: 0.8117 - accuracy: 0.7333\n",
      "Epoch 71/100\n",
      "2/2 [==============================] - 0s 11ms/step - loss: 0.8071 - accuracy: 0.7500\n",
      "Epoch 72/100\n",
      "2/2 [==============================] - 0s 12ms/step - loss: 0.8025 - accuracy: 0.7500\n",
      "Epoch 73/100\n",
      "2/2 [==============================] - 0s 14ms/step - loss: 0.7978 - accuracy: 0.7500\n",
      "Epoch 74/100\n",
      "2/2 [==============================] - 0s 13ms/step - loss: 0.7932 - accuracy: 0.7667\n",
      "Epoch 75/100\n",
      "2/2 [==============================] - 0s 16ms/step - loss: 0.7886 - accuracy: 0.7833\n",
      "Epoch 76/100\n",
      "2/2 [==============================] - 0s 14ms/step - loss: 0.7842 - accuracy: 0.7750\n",
      "Epoch 77/100\n",
      "2/2 [==============================] - 0s 11ms/step - loss: 0.7798 - accuracy: 0.7833\n",
      "Epoch 78/100\n",
      "2/2 [==============================] - 0s 9ms/step - loss: 0.7753 - accuracy: 0.7833\n",
      "Epoch 79/100\n",
      "2/2 [==============================] - 0s 11ms/step - loss: 0.7710 - accuracy: 0.7833\n",
      "Epoch 80/100\n",
      "2/2 [==============================] - 0s 11ms/step - loss: 0.7666 - accuracy: 0.7833\n",
      "Epoch 81/100\n",
      "2/2 [==============================] - 0s 10ms/step - loss: 0.7624 - accuracy: 0.7917\n",
      "Epoch 82/100\n",
      "2/2 [==============================] - 0s 13ms/step - loss: 0.7580 - accuracy: 0.7833\n",
      "Epoch 83/100\n",
      "2/2 [==============================] - 0s 9ms/step - loss: 0.7538 - accuracy: 0.7833\n",
      "Epoch 84/100\n",
      "2/2 [==============================] - 0s 11ms/step - loss: 0.7496 - accuracy: 0.7750\n",
      "Epoch 85/100\n",
      "2/2 [==============================] - 0s 11ms/step - loss: 0.7455 - accuracy: 0.7583\n",
      "Epoch 86/100\n",
      "2/2 [==============================] - 0s 12ms/step - loss: 0.7412 - accuracy: 0.7667\n",
      "Epoch 87/100\n",
      "2/2 [==============================] - 0s 10ms/step - loss: 0.7373 - accuracy: 0.7750\n",
      "Epoch 88/100\n",
      "2/2 [==============================] - 0s 11ms/step - loss: 0.7332 - accuracy: 0.7750\n",
      "Epoch 89/100\n",
      "2/2 [==============================] - 0s 12ms/step - loss: 0.7292 - accuracy: 0.7833\n",
      "Epoch 90/100\n",
      "2/2 [==============================] - 0s 14ms/step - loss: 0.7253 - accuracy: 0.7833\n",
      "Epoch 91/100\n",
      "2/2 [==============================] - 0s 11ms/step - loss: 0.7214 - accuracy: 0.7833\n",
      "Epoch 92/100\n",
      "2/2 [==============================] - 0s 16ms/step - loss: 0.7175 - accuracy: 0.8000\n",
      "Epoch 93/100\n",
      "2/2 [==============================] - 0s 6ms/step - loss: 0.7138 - accuracy: 0.8167\n",
      "Epoch 94/100\n",
      "2/2 [==============================] - 0s 14ms/step - loss: 0.7101 - accuracy: 0.8333\n",
      "Epoch 95/100\n",
      "2/2 [==============================] - 0s 9ms/step - loss: 0.7064 - accuracy: 0.8333\n",
      "Epoch 96/100\n",
      "2/2 [==============================] - 0s 13ms/step - loss: 0.7028 - accuracy: 0.8417\n",
      "Epoch 97/100\n",
      "2/2 [==============================] - 0s 11ms/step - loss: 0.6993 - accuracy: 0.8583\n",
      "Epoch 98/100\n",
      "2/2 [==============================] - 0s 13ms/step - loss: 0.6958 - accuracy: 0.8833\n",
      "Epoch 99/100\n",
      "2/2 [==============================] - 0s 6ms/step - loss: 0.6924 - accuracy: 0.8833\n",
      "Epoch 100/100\n",
      "2/2 [==============================] - 0s 17ms/step - loss: 0.6891 - accuracy: 0.8917\n"
     ]
    },
    {
     "data": {
      "text/plain": [
       "<keras.src.callbacks.History at 0x2685f41f4f0>"
      ]
     },
     "execution_count": 69,
     "metadata": {},
     "output_type": "execute_result"
    }
   ],
   "source": [
    "model.fit(xtrain,ytrain,batch_size=100,epochs=100)"
   ]
  },
  {
   "cell_type": "code",
   "execution_count": 70,
   "id": "eed8535d",
   "metadata": {},
   "outputs": [
    {
     "name": "stdout",
     "output_type": "stream",
     "text": [
      "1/1 [==============================] - 0s 342ms/step\n"
     ]
    }
   ],
   "source": [
    "pred=model.predict(xtest)"
   ]
  },
  {
   "cell_type": "code",
   "execution_count": 72,
   "id": "fff80ceb",
   "metadata": {},
   "outputs": [
    {
     "name": "stdout",
     "output_type": "stream",
     "text": [
      "1/1 [==============================] - 1s 657ms/step - loss: 0.7181 - accuracy: 0.9333\n",
      "Test accuracy: 0.9333333373069763\n"
     ]
    }
   ],
   "source": [
    "test_loss, test_acc = model.evaluate(xtest, ytest)\n",
    "print(\"Test accuracy:\", test_acc)"
   ]
  },
  {
   "cell_type": "code",
   "execution_count": 78,
   "id": "e79efa9b",
   "metadata": {},
   "outputs": [
    {
     "name": "stdout",
     "output_type": "stream",
     "text": [
      "1/1 [==============================] - 0s 81ms/step\n"
     ]
    }
   ],
   "source": [
    "y_pred = model.predict(xtest)"
   ]
  },
  {
   "cell_type": "code",
   "execution_count": 73,
   "id": "a335ecbe",
   "metadata": {},
   "outputs": [],
   "source": [
    "from sklearn.metrics import classification_report"
   ]
  },
  {
   "cell_type": "code",
   "execution_count": null,
   "id": "108e2fc5",
   "metadata": {},
   "outputs": [],
   "source": []
  },
  {
   "cell_type": "code",
   "execution_count": null,
   "id": "21c8ff42",
   "metadata": {},
   "outputs": [],
   "source": []
  },
  {
   "cell_type": "code",
   "execution_count": 34,
   "id": "561dc86b",
   "metadata": {},
   "outputs": [],
   "source": [
    "import numpy as np "
   ]
  },
  {
   "cell_type": "code",
   "execution_count": 36,
   "id": "bf4196d6",
   "metadata": {},
   "outputs": [],
   "source": [
    "testpred=np.argmax(ytest,axis=1)"
   ]
  },
  {
   "cell_type": "code",
   "execution_count": 37,
   "id": "0dd8b6c0",
   "metadata": {},
   "outputs": [],
   "source": [
    "ypred=np.argmax(pred,axis=1)"
   ]
  },
  {
   "cell_type": "code",
   "execution_count": 38,
   "id": "4eaa6001",
   "metadata": {},
   "outputs": [],
   "source": [
    "from sklearn.metrics import confusion_matrix"
   ]
  },
  {
   "cell_type": "code",
   "execution_count": 39,
   "id": "e85a15f0",
   "metadata": {},
   "outputs": [],
   "source": [
    "cm=confusion_matrix(testpred,ypred)"
   ]
  },
  {
   "cell_type": "code",
   "execution_count": 40,
   "id": "e99093a9",
   "metadata": {},
   "outputs": [
    {
     "data": {
      "text/plain": [
       "array([[ 4,  5,  0],\n",
       "       [ 0,  0, 11],\n",
       "       [ 0,  0, 10]], dtype=int64)"
      ]
     },
     "execution_count": 40,
     "metadata": {},
     "output_type": "execute_result"
    }
   ],
   "source": [
    "cm"
   ]
  },
  {
   "cell_type": "code",
   "execution_count": 43,
   "id": "99ea9d6f",
   "metadata": {},
   "outputs": [],
   "source": [
    "import seaborn as sns "
   ]
  },
  {
   "cell_type": "code",
   "execution_count": 44,
   "id": "2413e42b",
   "metadata": {},
   "outputs": [
    {
     "data": {
      "text/plain": [
       "<AxesSubplot:>"
      ]
     },
     "execution_count": 44,
     "metadata": {},
     "output_type": "execute_result"
    },
    {
     "data": {
      "image/png": "[encoded data removed]",
      "text/plain": [
       "<Figure size 432x288 with 2 Axes>"
      ]
     },
     "metadata": {
      "needs_background": "light"
     },
     "output_type": "display_data"
    }
   ],
   "source": [
    "sns.heatmap(cm)"
   ]
  },
  {
   "cell_type": "code",
   "execution_count": 45,
   "id": "e79095b7",
   "metadata": {},
   "outputs": [
    {
     "data": {
      "text/html": [
       "<div>\n",
       "<style scoped>\n",
       "    .dataframe tbody tr th:only-of-type {\n",
       "        vertical-align: middle;\n",
       "    }\n",
       "\n",
       "    .dataframe tbody tr th {\n",
       "        vertical-align: top;\n",
       "    }\n",
       "\n",
       "    .dataframe thead th {\n",
       "        text-align: right;\n",
       "    }\n",
       "</style>\n",
       "<table border=\"1\" class=\"dataframe\">\n",
       "  <thead>\n",
       "    <tr style=\"text-align: right;\">\n",
       "      <th></th>\n",
       "      <th>Id</th>\n",
       "      <th>SepalLengthCm</th>\n",
       "      <th>SepalWidthCm</th>\n",
       "      <th>PetalLengthCm</th>\n",
       "      <th>PetalWidthCm</th>\n",
       "      <th>Species</th>\n",
       "    </tr>\n",
       "  </thead>\n",
       "  <tbody>\n",
       "    <tr>\n",
       "      <th>0</th>\n",
       "      <td>1</td>\n",
       "      <td>5.1</td>\n",
       "      <td>3.5</td>\n",
       "      <td>1.4</td>\n",
       "      <td>0.2</td>\n",
       "      <td>Iris-setosa</td>\n",
       "    </tr>\n",
       "    <tr>\n",
       "      <th>1</th>\n",
       "      <td>2</td>\n",
       "      <td>4.9</td>\n",
       "      <td>3.0</td>\n",
       "      <td>1.4</td>\n",
       "      <td>0.2</td>\n",
       "      <td>Iris-setosa</td>\n",
       "    </tr>\n",
       "    <tr>\n",
       "      <th>2</th>\n",
       "      <td>3</td>\n",
       "      <td>4.7</td>\n",
       "      <td>3.2</td>\n",
       "      <td>1.3</td>\n",
       "      <td>0.2</td>\n",
       "      <td>Iris-setosa</td>\n",
       "    </tr>\n",
       "    <tr>\n",
       "      <th>3</th>\n",
       "      <td>4</td>\n",
       "      <td>4.6</td>\n",
       "      <td>3.1</td>\n",
       "      <td>1.5</td>\n",
       "      <td>0.2</td>\n",
       "      <td>Iris-setosa</td>\n",
       "    </tr>\n",
       "    <tr>\n",
       "      <th>4</th>\n",
       "      <td>5</td>\n",
       "      <td>5.0</td>\n",
       "      <td>3.6</td>\n",
       "      <td>1.4</td>\n",
       "      <td>0.2</td>\n",
       "      <td>Iris-setosa</td>\n",
       "    </tr>\n",
       "  </tbody>\n",
       "</table>\n",
       "</div>"
      ],
      "text/plain": [
       "   Id  SepalLengthCm  SepalWidthCm  PetalLengthCm  PetalWidthCm      Species\n",
       "0   1            5.1           3.5            1.4           0.2  Iris-setosa\n",
       "1   2            4.9           3.0            1.4           0.2  Iris-setosa\n",
       "2   3            4.7           3.2            1.3           0.2  Iris-setosa\n",
       "3   4            4.6           3.1            1.5           0.2  Iris-setosa\n",
       "4   5            5.0           3.6            1.4           0.2  Iris-setosa"
      ]
     },
     "execution_count": 45,
     "metadata": {},
     "output_type": "execute_result"
    }
   ],
   "source": [
    "data.head()"
   ]
  },
  {
   "cell_type": "code",
   "execution_count": 82,
   "id": "1eba3f58",
   "metadata": {},
   "outputs": [],
   "source": [
    "new_data = [5.1,3.5,1.4,0.2]"
   ]
  },
  {
   "cell_type": "code",
   "execution_count": 84,
   "id": "27906bca",
   "metadata": {},
   "outputs": [],
   "source": [
    "new_data_scaled = scaler.fit_transform([new_data])"
   ]
  },
  {
   "cell_type": "code",
   "execution_count": 85,
   "id": "ce6e47cd",
   "metadata": {},
   "outputs": [],
   "source": [
    "new_data_reshaped = new_data_scaled.reshape(1, -1)"
   ]
  },
  {
   "cell_type": "code",
   "execution_count": 87,
   "id": "d81d0eb6",
   "metadata": {},
   "outputs": [
    {
     "ename": "InvalidArgumentError",
     "evalue": "Graph execution error:\n\nDetected at node sequential_1/dense_3/Relu defined at (most recent call last):\n  File \"F:\\conda\\lib\\runpy.py\", line 197, in _run_module_as_main\n\n  File \"F:\\conda\\lib\\runpy.py\", line 87, in _run_code\n\n  File \"F:\\conda\\lib\\site-packages\\ipykernel_launcher.py\", line 16, in <module>\n\n  File \"F:\\conda\\lib\\site-packages\\traitlets\\config\\application.py\", line 846, in launch_instance\n\n  File \"F:\\conda\\lib\\site-packages\\ipykernel\\kernelapp.py\", line 677, in start\n\n  File \"F:\\conda\\lib\\site-packages\\tornado\\platform\\asyncio.py\", line 199, in start\n\n  File \"F:\\conda\\lib\\asyncio\\base_events.py\", line 601, in run_forever\n\n  File \"F:\\conda\\lib\\asyncio\\base_events.py\", line 1905, in _run_once\n\n  File \"F:\\conda\\lib\\asyncio\\events.py\", line 80, in _run\n\n  File \"F:\\conda\\lib\\site-packages\\ipykernel\\kernelbase.py\", line 471, in dispatch_queue\n\n  File \"F:\\conda\\lib\\site-packages\\ipykernel\\kernelbase.py\", line 460, in process_one\n\n  File \"F:\\conda\\lib\\site-packages\\ipykernel\\kernelbase.py\", line 367, in dispatch_shell\n\n  File \"F:\\conda\\lib\\site-packages\\ipykernel\\kernelbase.py\", line 662, in execute_request\n\n  File \"F:\\conda\\lib\\site-packages\\ipykernel\\ipkernel.py\", line 360, in do_execute\n\n  File \"F:\\conda\\lib\\site-packages\\ipykernel\\zmqshell.py\", line 532, in run_cell\n\n  File \"F:\\conda\\lib\\site-packages\\IPython\\core\\interactiveshell.py\", line 2863, in run_cell\n\n  File \"F:\\conda\\lib\\site-packages\\IPython\\core\\interactiveshell.py\", line 2909, in _run_cell\n\n  File \"F:\\conda\\lib\\site-packages\\IPython\\core\\async_helpers.py\", line 129, in _pseudo_sync_runner\n\n  File \"F:\\conda\\lib\\site-packages\\IPython\\core\\interactiveshell.py\", line 3106, in run_cell_async\n\n  File \"F:\\conda\\lib\\site-packages\\IPython\\core\\interactiveshell.py\", line 3309, in run_ast_nodes\n\n  File \"F:\\conda\\lib\\site-packages\\IPython\\core\\interactiveshell.py\", line 3369, in run_code\n\n  File \"C:\\Users\\Anonymous\\AppData\\Local\\Temp\\ipykernel_1932\\1516233759.py\", line 1, in <cell line: 1>\n\n  File \"F:\\conda\\lib\\site-packages\\keras\\src\\utils\\traceback_utils.py\", line 65, in error_handler\n\n  File \"F:\\conda\\lib\\site-packages\\keras\\src\\engine\\training.py\", line 2655, in predict\n\n  File \"F:\\conda\\lib\\site-packages\\keras\\src\\engine\\training.py\", line 2440, in predict_function\n\n  File \"F:\\conda\\lib\\site-packages\\keras\\src\\engine\\training.py\", line 2425, in step_function\n\n  File \"F:\\conda\\lib\\site-packages\\keras\\src\\engine\\training.py\", line 2413, in run_step\n\n  File \"F:\\conda\\lib\\site-packages\\keras\\src\\engine\\training.py\", line 2381, in predict_step\n\n  File \"F:\\conda\\lib\\site-packages\\keras\\src\\utils\\traceback_utils.py\", line 65, in error_handler\n\n  File \"F:\\conda\\lib\\site-packages\\keras\\src\\engine\\training.py\", line 590, in __call__\n\n  File \"F:\\conda\\lib\\site-packages\\keras\\src\\utils\\traceback_utils.py\", line 65, in error_handler\n\n  File \"F:\\conda\\lib\\site-packages\\keras\\src\\engine\\base_layer.py\", line 1149, in __call__\n\n  File \"F:\\conda\\lib\\site-packages\\keras\\src\\utils\\traceback_utils.py\", line 96, in error_handler\n\n  File \"F:\\conda\\lib\\site-packages\\keras\\src\\engine\\sequential.py\", line 398, in call\n\n  File \"F:\\conda\\lib\\site-packages\\keras\\src\\engine\\functional.py\", line 515, in call\n\n  File \"F:\\conda\\lib\\site-packages\\keras\\src\\engine\\functional.py\", line 672, in _run_internal_graph\n\n  File \"F:\\conda\\lib\\site-packages\\keras\\src\\utils\\traceback_utils.py\", line 65, in error_handler\n\n  File \"F:\\conda\\lib\\site-packages\\keras\\src\\engine\\base_layer.py\", line 1149, in __call__\n\n  File \"F:\\conda\\lib\\site-packages\\keras\\src\\utils\\traceback_utils.py\", line 96, in error_handler\n\n  File \"F:\\conda\\lib\\site-packages\\keras\\src\\layers\\core\\dense.py\", line 255, in call\n\n  File \"F:\\conda\\lib\\site-packages\\keras\\src\\activations.py\", line 306, in relu\n\n  File \"F:\\conda\\lib\\site-packages\\keras\\src\\backend.py\", line 5395, in relu\n\nMatrix size-incompatible: In[0]: [1,4], In[1]: [5,4]\n\t [[{{node sequential_1/dense_3/Relu}}]] [Op:__inference_predict_function_18484]",
     "output_type": "error",
     "traceback": [
      "\u001b[1;31m---------------------------------------------------------------------------\u001b[0m",
      "\u001b[1;31mInvalidArgumentError\u001b[0m                      Traceback (most recent call last)",
      "Input \u001b[1;32mIn [87]\u001b[0m, in \u001b[0;36m<cell line: 1>\u001b[1;34m()\u001b[0m\n\u001b[1;32m----> 1\u001b[0m prediction \u001b[38;5;241m=\u001b[39m \u001b[43mmodel\u001b[49m\u001b[38;5;241;43m.\u001b[39;49m\u001b[43mpredict\u001b[49m\u001b[43m(\u001b[49m\u001b[43mnew_data_reshaped\u001b[49m\u001b[43m)\u001b[49m\n\u001b[0;32m      2\u001b[0m predicted_class \u001b[38;5;241m=\u001b[39m prediction[\u001b[38;5;241m0\u001b[39m]\n\u001b[0;32m      3\u001b[0m iris_species \u001b[38;5;241m=\u001b[39m data[\u001b[38;5;124m\"\u001b[39m\u001b[38;5;124mspecies\u001b[39m\u001b[38;5;124m\"\u001b[39m]\u001b[38;5;241m.\u001b[39munique()[predicted_class]  \u001b[38;5;66;03m# Get species name from unique labels\u001b[39;00m\n",
      "File \u001b[1;32mF:\\conda\\lib\\site-packages\\keras\\src\\utils\\traceback_utils.py:70\u001b[0m, in \u001b[0;36mfilter_traceback.<locals>.error_handler\u001b[1;34m(*args, **kwargs)\u001b[0m\n\u001b[0;32m     67\u001b[0m     filtered_tb \u001b[38;5;241m=\u001b[39m _process_traceback_frames(e\u001b[38;5;241m.\u001b[39m__traceback__)\n\u001b[0;32m     68\u001b[0m     \u001b[38;5;66;03m# To get the full stack trace, call:\u001b[39;00m\n\u001b[0;32m     69\u001b[0m     \u001b[38;5;66;03m# `tf.debugging.disable_traceback_filtering()`\u001b[39;00m\n\u001b[1;32m---> 70\u001b[0m     \u001b[38;5;28;01mraise\u001b[39;00m e\u001b[38;5;241m.\u001b[39mwith_traceback(filtered_tb) \u001b[38;5;28;01mfrom\u001b[39;00m \u001b[38;5;28;01mNone\u001b[39;00m\n\u001b[0;32m     71\u001b[0m \u001b[38;5;28;01mfinally\u001b[39;00m:\n\u001b[0;32m     72\u001b[0m     \u001b[38;5;28;01mdel\u001b[39;00m filtered_tb\n",
      "File \u001b[1;32mF:\\conda\\lib\\site-packages\\tensorflow\\python\\eager\\execute.py:53\u001b[0m, in \u001b[0;36mquick_execute\u001b[1;34m(op_name, num_outputs, inputs, attrs, ctx, name)\u001b[0m\n\u001b[0;32m     51\u001b[0m \u001b[38;5;28;01mtry\u001b[39;00m:\n\u001b[0;32m     52\u001b[0m   ctx\u001b[38;5;241m.\u001b[39mensure_initialized()\n\u001b[1;32m---> 53\u001b[0m   tensors \u001b[38;5;241m=\u001b[39m pywrap_tfe\u001b[38;5;241m.\u001b[39mTFE_Py_Execute(ctx\u001b[38;5;241m.\u001b[39m_handle, device_name, op_name,\n\u001b[0;32m     54\u001b[0m                                       inputs, attrs, num_outputs)\n\u001b[0;32m     55\u001b[0m \u001b[38;5;28;01mexcept\u001b[39;00m core\u001b[38;5;241m.\u001b[39m_NotOkStatusException \u001b[38;5;28;01mas\u001b[39;00m e:\n\u001b[0;32m     56\u001b[0m   \u001b[38;5;28;01mif\u001b[39;00m name \u001b[38;5;129;01mis\u001b[39;00m \u001b[38;5;129;01mnot\u001b[39;00m \u001b[38;5;28;01mNone\u001b[39;00m:\n",
      "\u001b[1;31mInvalidArgumentError\u001b[0m: Graph execution error:\n\nDetected at node sequential_1/dense_3/Relu defined at (most recent call last):\n  File \"F:\\conda\\lib\\runpy.py\", line 197, in _run_module_as_main\n\n  File \"F:\\conda\\lib\\runpy.py\", line 87, in _run_code\n\n  File \"F:\\conda\\lib\\site-packages\\ipykernel_launcher.py\", line 16, in <module>\n\n  File \"F:\\conda\\lib\\site-packages\\traitlets\\config\\application.py\", line 846, in launch_instance\n\n  File \"F:\\conda\\lib\\site-packages\\ipykernel\\kernelapp.py\", line 677, in start\n\n  File \"F:\\conda\\lib\\site-packages\\tornado\\platform\\asyncio.py\", line 199, in start\n\n  File \"F:\\conda\\lib\\asyncio\\base_events.py\", line 601, in run_forever\n\n  File \"F:\\conda\\lib\\asyncio\\base_events.py\", line 1905, in _run_once\n\n  File \"F:\\conda\\lib\\asyncio\\events.py\", line 80, in _run\n\n  File \"F:\\conda\\lib\\site-packages\\ipykernel\\kernelbase.py\", line 471, in dispatch_queue\n\n  File \"F:\\conda\\lib\\site-packages\\ipykernel\\kernelbase.py\", line 460, in process_one\n\n  File \"F:\\conda\\lib\\site-packages\\ipykernel\\kernelbase.py\", line 367, in dispatch_shell\n\n  File \"F:\\conda\\lib\\site-packages\\ipykernel\\kernelbase.py\", line 662, in execute_request\n\n  File \"F:\\conda\\lib\\site-packages\\ipykernel\\ipkernel.py\", line 360, in do_execute\n\n  File \"F:\\conda\\lib\\site-packages\\ipykernel\\zmqshell.py\", line 532, in run_cell\n\n  File \"F:\\conda\\lib\\site-packages\\IPython\\core\\interactiveshell.py\", line 2863, in run_cell\n\n  File \"F:\\conda\\lib\\site-packages\\IPython\\core\\interactiveshell.py\", line 2909, in _run_cell\n\n  File \"F:\\conda\\lib\\site-packages\\IPython\\core\\async_helpers.py\", line 129, in _pseudo_sync_runner\n\n  File \"F:\\conda\\lib\\site-packages\\IPython\\core\\interactiveshell.py\", line 3106, in run_cell_async\n\n  File \"F:\\conda\\lib\\site-packages\\IPython\\core\\interactiveshell.py\", line 3309, in run_ast_nodes\n\n  File \"F:\\conda\\lib\\site-packages\\IPython\\core\\interactiveshell.py\", line 3369, in run_code\n\n  File \"C:\\Users\\Anonymous\\AppData\\Local\\Temp\\ipykernel_1932\\1516233759.py\", line 1, in <cell line: 1>\n\n  File \"F:\\conda\\lib\\site-packages\\keras\\src\\utils\\traceback_utils.py\", line 65, in error_handler\n\n  File \"F:\\conda\\lib\\site-packages\\keras\\src\\engine\\training.py\", line 2655, in predict\n\n  File \"F:\\conda\\lib\\site-packages\\keras\\src\\engine\\training.py\", line 2440, in predict_function\n\n  File \"F:\\conda\\lib\\site-packages\\keras\\src\\engine\\training.py\", line 2425, in step_function\n\n  File \"F:\\conda\\lib\\site-packages\\keras\\src\\engine\\training.py\", line 2413, in run_step\n\n  File \"F:\\conda\\lib\\site-packages\\keras\\src\\engine\\training.py\", line 2381, in predict_step\n\n  File \"F:\\conda\\lib\\site-packages\\keras\\src\\utils\\traceback_utils.py\", line 65, in error_handler\n\n  File \"F:\\conda\\lib\\site-packages\\keras\\src\\engine\\training.py\", line 590, in __call__\n\n  File \"F:\\conda\\lib\\site-packages\\keras\\src\\utils\\traceback_utils.py\", line 65, in error_handler\n\n  File \"F:\\conda\\lib\\site-packages\\keras\\src\\engine\\base_layer.py\", line 1149, in __call__\n\n  File \"F:\\conda\\lib\\site-packages\\keras\\src\\utils\\traceback_utils.py\", line 96, in error_handler\n\n  File \"F:\\conda\\lib\\site-packages\\keras\\src\\engine\\sequential.py\", line 398, in call\n\n  File \"F:\\conda\\lib\\site-packages\\keras\\src\\engine\\functional.py\", line 515, in call\n\n  File \"F:\\conda\\lib\\site-packages\\keras\\src\\engine\\functional.py\", line 672, in _run_internal_graph\n\n  File \"F:\\conda\\lib\\site-packages\\keras\\src\\utils\\traceback_utils.py\", line 65, in error_handler\n\n  File \"F:\\conda\\lib\\site-packages\\keras\\src\\engine\\base_layer.py\", line 1149, in __call__\n\n  File \"F:\\conda\\lib\\site-packages\\keras\\src\\utils\\traceback_utils.py\", line 96, in error_handler\n\n  File \"F:\\conda\\lib\\site-packages\\keras\\src\\layers\\core\\dense.py\", line 255, in call\n\n  File \"F:\\conda\\lib\\site-packages\\keras\\src\\activations.py\", line 306, in relu\n\n  File \"F:\\conda\\lib\\site-packages\\keras\\src\\backend.py\", line 5395, in relu\n\nMatrix size-incompatible: In[0]: [1,4], In[1]: [5,4]\n\t [[{{node sequential_1/dense_3/Relu}}]] [Op:__inference_predict_function_18484]"
     ]
    }
   ],
   "source": [
    "prediction = model.predict(new_data_reshaped)\n",
    "predicted_class = prediction[0]\n",
    "iris_species = data[\"species\"].unique()[predicted_class]  # Get species name from unique labels\n",
    "print(\"Predicted class:\", predicted_class)\n",
    "print(\"Predicted Iris species:\", iris_species)"
   ]
  },
  {
   "cell_type": "code",
   "execution_count": null,
   "id": "efc57d30",
   "metadata": {},
   "outputs": [],
   "source": []
  }
 ],
 "metadata": {
  "kernelspec": {
   "display_name": "Python 3 (ipykernel)",
   "language": "python",
   "name": "python3"
  },
  "language_info": {
   "codemirror_mode": {
    "name": "ipython",
    "version": 3
   },
   "file_extension": ".py",
   "mimetype": "text/x-python",
   "name": "python",
   "nbconvert_exporter": "python",
   "pygments_lexer": "ipython3",
   "version": "3.9.12"
  }
 },
 "nbformat": 4,
 "nbformat_minor": 5
}
