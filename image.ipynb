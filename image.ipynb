{
 "cells": [
  {
   "cell_type": "code",
   "execution_count": 1,
   "id": "03316135",
   "metadata": {},
   "outputs": [
    {
     "name": "stderr",
     "output_type": "stream",
     "text": [
      "F:\\conda\\lib\\site-packages\\scipy\\__init__.py:146: UserWarning: A NumPy version >=1.16.5 and <1.23.0 is required for this version of SciPy (detected version 1.26.3\n",
      "  warnings.warn(f\"A NumPy version >={np_minversion} and <{np_maxversion}\"\n"
     ]
    },
    {
     "name": "stdout",
     "output_type": "stream",
     "text": [
      "WARNING:tensorflow:From F:\\conda\\lib\\site-packages\\keras\\src\\losses.py:2976: The name tf.losses.sparse_softmax_cross_entropy is deprecated. Please use tf.compat.v1.losses.sparse_softmax_cross_entropy instead.\n",
      "\n"
     ]
    }
   ],
   "source": [
    "import os \n",
    "import numpy as np \n",
    "import cv2\n",
    "import tensorflow as tf \n",
    "from tensorflow.keras.preprocessing.image import ImageDataGenerator\n",
    "import matplotlib.pyplot as plt\n",
    "from tensorflow.keras.preprocessing import image "
   ]
  },
  {
   "cell_type": "code",
   "execution_count": 2,
   "id": "65caf7e4",
   "metadata": {},
   "outputs": [],
   "source": [
    "train=ImageDataGenerator(rescale=1/255)\n",
    "test=ImageDataGenerator(rescale=1/255)"
   ]
  },
  {
   "cell_type": "code",
   "execution_count": 3,
   "id": "05488eff",
   "metadata": {},
   "outputs": [
    {
     "name": "stdout",
     "output_type": "stream",
     "text": [
      "Found 158 images belonging to 2 classes.\n"
     ]
    }
   ],
   "source": [
    "train_dataset=train.flow_from_directory(\"Data/Train/\",target_size=(200,200),class_mode=\"binary\",batch_size=32)"
   ]
  },
  {
   "cell_type": "code",
   "execution_count": 4,
   "id": "f25a4493",
   "metadata": {},
   "outputs": [
    {
     "name": "stdout",
     "output_type": "stream",
     "text": [
      "Found 50 images belonging to 2 classes.\n"
     ]
    }
   ],
   "source": [
    "test_data=test.flow_from_directory(\"Data/Test_Data/\",target_size=(200,200),class_mode=\"binary\",batch_size=32)"
   ]
  },
  {
   "cell_type": "code",
   "execution_count": 5,
   "id": "40636716",
   "metadata": {},
   "outputs": [
    {
     "data": {
      "text/plain": [
       "{'Fire': 0, 'Non_Fire': 1}"
      ]
     },
     "execution_count": 5,
     "metadata": {},
     "output_type": "execute_result"
    }
   ],
   "source": [
    "train_dataset.class_indices"
   ]
  },
  {
   "cell_type": "code",
   "execution_count": 6,
   "id": "edb4091c",
   "metadata": {},
   "outputs": [
    {
     "data": {
      "text/plain": [
       "array([0, 0, 0, 0, 0, 0, 0, 0, 0, 0, 0, 0, 0, 0, 0, 0, 0, 0, 0, 0, 0, 0,\n",
       "       0, 0, 0, 0, 0, 0, 0, 0, 0, 0, 0, 0, 0, 0, 0, 0, 0, 0, 0, 0, 0, 0,\n",
       "       0, 0, 0, 0, 0, 0, 0, 0, 0, 0, 0, 0, 0, 0, 0, 0, 0, 0, 0, 0, 0, 0,\n",
       "       0, 0, 0, 0, 0, 0, 0, 0, 0, 0, 0, 0, 0, 0, 0, 0, 0, 0, 0, 0, 0, 0,\n",
       "       0, 0, 0, 0, 0, 0, 0, 0, 0, 0, 0, 0, 0, 0, 0, 0, 0, 0, 0, 0, 0, 0,\n",
       "       0, 0, 0, 0, 0, 0, 0, 0, 0, 0, 0, 0, 0, 0, 0, 0, 0, 0, 0, 1, 1, 1,\n",
       "       1, 1, 1, 1, 1, 1, 1, 1, 1, 1, 1, 1, 1, 1, 1, 1, 1, 1, 1, 1, 1, 1,\n",
       "       1, 1, 1, 1])"
      ]
     },
     "execution_count": 6,
     "metadata": {},
     "output_type": "execute_result"
    }
   ],
   "source": [
    "train_dataset.classes"
   ]
  },
  {
   "cell_type": "code",
   "execution_count": 7,
   "id": "fe581578",
   "metadata": {},
   "outputs": [
    {
     "data": {
      "text/plain": [
       "array([0, 0, 0, 0, 0, 0, 0, 0, 0, 0, 0, 0, 0, 0, 0, 0, 0, 0, 0, 0, 0, 0,\n",
       "       0, 0, 0, 1, 1, 1, 1, 1, 1, 1, 1, 1, 1, 1, 1, 1, 1, 1, 1, 1, 1, 1,\n",
       "       1, 1, 1, 1, 1, 1])"
      ]
     },
     "execution_count": 7,
     "metadata": {},
     "output_type": "execute_result"
    }
   ],
   "source": [
    "test_data.classes"
   ]
  },
  {
   "cell_type": "code",
   "execution_count": 8,
   "id": "e043c309",
   "metadata": {},
   "outputs": [],
   "source": [
    "from tensorflow.keras.models import Sequential\n",
    "from tensorflow.keras.layers import MaxPooling2D,Conv2D,Flatten,Dense"
   ]
  },
  {
   "cell_type": "code",
   "execution_count": 9,
   "id": "15e2ddea",
   "metadata": {},
   "outputs": [
    {
     "name": "stdout",
     "output_type": "stream",
     "text": [
      "WARNING:tensorflow:From F:\\conda\\lib\\site-packages\\keras\\src\\backend.py:873: The name tf.get_default_graph is deprecated. Please use tf.compat.v1.get_default_graph instead.\n",
      "\n"
     ]
    }
   ],
   "source": [
    "model=Sequential()"
   ]
  },
  {
   "cell_type": "code",
   "execution_count": 10,
   "id": "2802624a",
   "metadata": {},
   "outputs": [
    {
     "name": "stdout",
     "output_type": "stream",
     "text": [
      "WARNING:tensorflow:From F:\\conda\\lib\\site-packages\\keras\\src\\layers\\pooling\\max_pooling2d.py:161: The name tf.nn.max_pool is deprecated. Please use tf.nn.max_pool2d instead.\n",
      "\n"
     ]
    }
   ],
   "source": [
    "model.add(Conv2D(32,(3,3),activation='relu',input_shape=(200,200,3)))\n",
    "model.add(MaxPooling2D(2,2 ))"
   ]
  },
  {
   "cell_type": "code",
   "execution_count": 11,
   "id": "1eaed581",
   "metadata": {},
   "outputs": [],
   "source": [
    "model.add(Conv2D(64,(3,3),activation='relu'))\n",
    "model.add(MaxPooling2D(2,2))"
   ]
  },
  {
   "cell_type": "code",
   "execution_count": 12,
   "id": "8752015e",
   "metadata": {},
   "outputs": [],
   "source": [
    "model.add(Conv2D(128,(3,3),activation='relu'))\n",
    "model.add(MaxPooling2D(2,2))"
   ]
  },
  {
   "cell_type": "code",
   "execution_count": 13,
   "id": "ba5671d6",
   "metadata": {},
   "outputs": [],
   "source": [
    "model.add(Flatten())\n",
    "model.add(Dense(512,activation='relu'))\n",
    "model.add(Dense(1,activation='sigmoid'))"
   ]
  },
  {
   "cell_type": "code",
   "execution_count": 14,
   "id": "fa97d903",
   "metadata": {},
   "outputs": [
    {
     "name": "stdout",
     "output_type": "stream",
     "text": [
      "WARNING:tensorflow:From F:\\conda\\lib\\site-packages\\keras\\src\\optimizers\\__init__.py:309: The name tf.train.Optimizer is deprecated. Please use tf.compat.v1.train.Optimizer instead.\n",
      "\n"
     ]
    }
   ],
   "source": [
    "model.compile(optimizer='adam',metrics=['accuracy'],loss='binary_crossentropy')"
   ]
  },
  {
   "cell_type": "code",
   "execution_count": 16,
   "id": "78e6ef9f",
   "metadata": {},
   "outputs": [
    {
     "name": "stdout",
     "output_type": "stream",
     "text": [
      "Epoch 1/20\n",
      "5/5 [==============================] - 15s 3s/step - loss: 6.4093e-05 - accuracy: 1.0000 - val_loss: 23.7631 - val_accuracy: 0.5600\n",
      "Epoch 2/20\n",
      "5/5 [==============================] - 13s 2s/step - loss: 4.0891e-05 - accuracy: 1.0000 - val_loss: 23.8722 - val_accuracy: 0.5600\n",
      "Epoch 3/20\n",
      "5/5 [==============================] - 14s 3s/step - loss: 3.3798e-05 - accuracy: 1.0000 - val_loss: 23.9053 - val_accuracy: 0.5600\n",
      "Epoch 4/20\n",
      "5/5 [==============================] - 14s 3s/step - loss: 2.8950e-05 - accuracy: 1.0000 - val_loss: 23.8926 - val_accuracy: 0.5600\n",
      "Epoch 5/20\n",
      "5/5 [==============================] - 14s 3s/step - loss: 2.4685e-05 - accuracy: 1.0000 - val_loss: 23.8384 - val_accuracy: 0.5600\n",
      "Epoch 6/20\n",
      "5/5 [==============================] - 14s 3s/step - loss: 2.1978e-05 - accuracy: 1.0000 - val_loss: 23.7335 - val_accuracy: 0.5600\n",
      "Epoch 7/20\n",
      "5/5 [==============================] - 15s 3s/step - loss: 2.0468e-05 - accuracy: 1.0000 - val_loss: 23.6191 - val_accuracy: 0.5600\n",
      "Epoch 8/20\n",
      "5/5 [==============================] - 14s 3s/step - loss: 1.7918e-05 - accuracy: 1.0000 - val_loss: 23.5473 - val_accuracy: 0.5600\n",
      "Epoch 9/20\n",
      "5/5 [==============================] - 14s 3s/step - loss: 1.6558e-05 - accuracy: 1.0000 - val_loss: 23.4654 - val_accuracy: 0.5600\n",
      "Epoch 10/20\n",
      "5/5 [==============================] - 14s 3s/step - loss: 1.5181e-05 - accuracy: 1.0000 - val_loss: 23.4223 - val_accuracy: 0.5600\n",
      "Epoch 11/20\n",
      "5/5 [==============================] - 15s 3s/step - loss: 1.4162e-05 - accuracy: 1.0000 - val_loss: 23.3970 - val_accuracy: 0.5600\n",
      "Epoch 12/20\n",
      "5/5 [==============================] - 14s 3s/step - loss: 1.3626e-05 - accuracy: 1.0000 - val_loss: 23.3552 - val_accuracy: 0.5600\n",
      "Epoch 13/20\n",
      "5/5 [==============================] - 14s 3s/step - loss: 1.2620e-05 - accuracy: 1.0000 - val_loss: 23.3391 - val_accuracy: 0.5600\n",
      "Epoch 14/20\n",
      "5/5 [==============================] - 14s 2s/step - loss: 1.2305e-05 - accuracy: 1.0000 - val_loss: 23.3004 - val_accuracy: 0.5600\n",
      "Epoch 15/20\n",
      "5/5 [==============================] - 14s 3s/step - loss: 1.1588e-05 - accuracy: 1.0000 - val_loss: 23.2958 - val_accuracy: 0.5600\n",
      "Epoch 16/20\n",
      "5/5 [==============================] - 14s 3s/step - loss: 1.1127e-05 - accuracy: 1.0000 - val_loss: 23.2996 - val_accuracy: 0.5600\n",
      "Epoch 17/20\n",
      "5/5 [==============================] - 14s 3s/step - loss: 1.0646e-05 - accuracy: 1.0000 - val_loss: 23.2816 - val_accuracy: 0.5600\n",
      "Epoch 18/20\n",
      "5/5 [==============================] - 14s 3s/step - loss: 1.0377e-05 - accuracy: 1.0000 - val_loss: 23.2627 - val_accuracy: 0.5600\n",
      "Epoch 19/20\n",
      "5/5 [==============================] - 14s 3s/step - loss: 9.9529e-06 - accuracy: 1.0000 - val_loss: 23.2771 - val_accuracy: 0.5600\n",
      "Epoch 20/20\n",
      "5/5 [==============================] - 13s 3s/step - loss: 9.5574e-06 - accuracy: 1.0000 - val_loss: 23.2743 - val_accuracy: 0.5600\n"
     ]
    },
    {
     "data": {
      "text/plain": [
       "<keras.src.callbacks.History at 0x1b8b9c3da30>"
      ]
     },
     "execution_count": 16,
     "metadata": {},
     "output_type": "execute_result"
    }
   ],
   "source": [
    "model.fit(train_dataset,epochs=20,validation_data=test_data)"
   ]
  },
  {
   "cell_type": "code",
   "execution_count": 17,
   "id": "e973d430",
   "metadata": {},
   "outputs": [],
   "source": [
    "chk='Data/F_0.jpg'"
   ]
  },
  {
   "cell_type": "code",
   "execution_count": 18,
   "id": "1bde67ae",
   "metadata": {},
   "outputs": [
    {
     "name": "stdout",
     "output_type": "stream",
     "text": [
      "1/1 [==============================] - 0s 306ms/step\n",
      "no fire\n"
     ]
    }
   ],
   "source": [
    "\n",
    "img=image.load_img(chk,target_size=(200,200,3))\n",
    "plt.show()\n",
    "x=image.img_to_array(img)\n",
    "    \n",
    "x=np.expand_dims(x,axis=0)\n",
    "image=np.vstack([x])\n",
    "val=model.predict(image)\n",
    "if val==0:\n",
    "    print(\"no fire\")\n",
    "else:\n",
    "    print(\"fire\")"
   ]
  },
  {
   "cell_type": "code",
   "execution_count": null,
   "id": "3591f8fb",
   "metadata": {},
   "outputs": [],
   "source": []
  },
  {
   "cell_type": "code",
   "execution_count": null,
   "id": "f6728549",
   "metadata": {},
   "outputs": [],
   "source": []
  },
  {
   "cell_type": "code",
   "execution_count": null,
   "id": "3053fbd8",
   "metadata": {},
   "outputs": [],
   "source": []
  }
 ],
 "metadata": {
  "kernelspec": {
   "display_name": "Python 3 (ipykernel)",
   "language": "python",
   "name": "python3"
  },
  "language_info": {
   "codemirror_mode": {
    "name": "ipython",
    "version": 3
   },
   "file_extension": ".py",
   "mimetype": "text/x-python",
   "name": "python",
   "nbconvert_exporter": "python",
   "pygments_lexer": "ipython3",
   "version": "3.9.12"
  }
 },
 "nbformat": 4,
 "nbformat_minor": 5
}
